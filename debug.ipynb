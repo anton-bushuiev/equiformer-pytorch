{
 "cells": [
  {
   "cell_type": "code",
   "execution_count": 10,
   "metadata": {},
   "outputs": [
    {
     "data": {
      "text/plain": [
       "tensor([[[-0.7798, -1.7470,  0.4664, -0.3501],\n",
       "         [-0.9648, -1.1258, -0.4793, -1.2538],\n",
       "         [ 1.2645, -0.4801,  1.2091,  0.8419],\n",
       "         [-1.0893,  0.4631, -0.9827, -1.2779],\n",
       "         [-0.6973, -1.8270, -0.3994, -0.1276],\n",
       "         [-0.5780, -1.0073, -0.0454,  1.6276],\n",
       "         [ 0.6491, -1.2229, -0.5996, -1.3129]]],\n",
       "       grad_fn=<ReshapeAliasBackward0>)"
      ]
     },
     "execution_count": 10,
     "metadata": {},
     "output_type": "execute_result"
    }
   ],
   "source": [
    "import torch\n",
    "from equiformer_pytorch import Equiformer\n",
    "\n",
    "# Init model\n",
    "model = Equiformer(\n",
    "    dim_in=(20, 3),\n",
    "    input_degrees=2,\n",
    "    dim = (4, 4, 2),      \n",
    "    dim_head = (4, 4, 4), \n",
    "    heads = (2, 2, 2),    \n",
    "    num_degrees = 3,      \n",
    "    reduce_dim_out = False,\n",
    ")\n",
    "\n",
    "# Create toy input:\n",
    "# 1 batch with 5 points stacked on top of each other in 3D with \n",
    "# random type-0 and type-1 features + 2 padding points with random features\n",
    "# and coors set to `coors_mask`.\n",
    "coors_mask = torch.tensor([0, 0, 0]).float()\n",
    "feats = {\n",
    "    0: torch.randn(1, 7, 20, 1),\n",
    "    1: torch.randn(1, 7, 3, 1)\n",
    "}\n",
    "coors = torch.tensor([[[0, 0, 0], [0, 0, 1], [0, 0, 2], [0, 0, 3], [0, 0, 4], coors_mask.detach(), coors_mask.detach()]]).float()\n",
    "mask  = torch.tensor([[1, 1, 1, 1, 1, 0, 0]]).bool()\n",
    "\n",
    "# Forward pass\n",
    "out = model(feats, coors, mask) # (1, 128)\n",
    "out.type0 # invariant type 0    - (1, 128)\n",
    "# out.type1 # equivariant type 1  - (1, 128, 3)"
   ]
  }
 ],
 "metadata": {
  "kernelspec": {
   "display_name": "ppiformer_m1",
   "language": "python",
   "name": "python3"
  },
  "language_info": {
   "codemirror_mode": {
    "name": "ipython",
    "version": 3
   },
   "file_extension": ".py",
   "mimetype": "text/x-python",
   "name": "python",
   "nbconvert_exporter": "python",
   "pygments_lexer": "ipython3",
   "version": "3.10.9"
  },
  "orig_nbformat": 4
 },
 "nbformat": 4,
 "nbformat_minor": 2
}
