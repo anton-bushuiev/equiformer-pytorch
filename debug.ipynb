{
 "cells": [
  {
   "cell_type": "code",
   "execution_count": 1,
   "metadata": {},
   "outputs": [],
   "source": [
    "%load_ext autoreload\n",
    "%autoreload 2"
   ]
  },
  {
   "cell_type": "code",
   "execution_count": 4,
   "metadata": {},
   "outputs": [
    {
     "name": "stdout",
     "output_type": "stream",
     "text": [
      "EdgeInfo(neighbor_indices=tensor([[[5],\n",
      "         [0],\n",
      "         [1],\n",
      "         [2],\n",
      "         [3],\n",
      "         [0],\n",
      "         [0]]]), neighbor_mask=tensor([[[False],\n",
      "         [ True],\n",
      "         [ True],\n",
      "         [ True],\n",
      "         [ True],\n",
      "         [False],\n",
      "         [False]]]), edges=None)\n",
      "torch.Size([1, 7, 4]) torch.Size([1, 7, 4])\n"
     ]
    }
   ],
   "source": [
    "import torch\n",
    "from equiformer_pytorch import Equiformer\n",
    "\n",
    "# Init model\n",
    "model = Equiformer(\n",
    "    dim_in=(20, 3),\n",
    "    input_degrees=2,\n",
    "    dim = (4, 4, 2),      \n",
    "    dim_head = (4, 4, 4), \n",
    "    heads = (2, 2, 2),    \n",
    "    num_degrees = 3,      \n",
    "    reduce_dim_out = False,\n",
    "    num_neighbors=1\n",
    ")\n",
    "\n",
    "# Create toy input:\n",
    "# 1 batch with 5 points stacked on top of each other in 3D with \n",
    "# 20 random type-0 and 3 random type-1 features + 2 padding points\n",
    "# with random features and coors set to `coors_mask`.\n",
    "coors_mask = torch.tensor([0, 0, 0]).float()\n",
    "feats = {\n",
    "    0: torch.randn(1, 7, 20, 1),\n",
    "    1: torch.randn(1, 7, 3, 1)\n",
    "}\n",
    "coors = torch.tensor([[[0, 0, 0], [0, 0, 1], [0, 0, 2], [0, 0, 3], [0, 0, 4], coors_mask.detach(), coors_mask.detach()]]).float()\n",
    "mask  = torch.tensor([[1, 1, 1, 1, 1, 0, 0]]).bool()\n",
    "\n",
    "# Forward\n",
    "out = model(feats, coors, mask)\n",
    "print(out.type0.shape, out.type0.shape)"
   ]
  }
 ],
 "metadata": {
  "kernelspec": {
   "display_name": "ppiformer_m1",
   "language": "python",
   "name": "python3"
  },
  "language_info": {
   "codemirror_mode": {
    "name": "ipython",
    "version": 3
   },
   "file_extension": ".py",
   "mimetype": "text/x-python",
   "name": "python",
   "nbconvert_exporter": "python",
   "pygments_lexer": "ipython3",
   "version": "3.10.9"
  },
  "orig_nbformat": 4
 },
 "nbformat": 4,
 "nbformat_minor": 2
}
